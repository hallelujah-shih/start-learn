{
 "cells": [
  {
   "cell_type": "code",
   "execution_count": 3,
   "metadata": {},
   "outputs": [
    {
     "name": "stdout",
     "output_type": "stream",
     "text": [
      "success...\n"
     ]
    }
   ],
   "source": [
    "import datetime\n",
    "import csv\n",
    "import elasticsearch\n",
    "import elasticsearch.helpers\n",
    "from collections import OrderedDict\n",
    "\n",
    "\n",
    "DATE = \"20190816\"\n",
    "\n",
    "\n",
    "ES_ADDR = [\"10.0.6.7:9200\"]\n",
    "\n",
    "q = {\n",
    "    \"query\": {\n",
    "        \"bool\": {\n",
    "            \"must\": [\n",
    "                {\"term\": {\"log_type\": \"credit\"}},\n",
    "                {\"term\": {\"result\": \"unkonwn\"}},\n",
    "                {\"term\": {\"extra.ref_res\": \"\"}}\n",
    "            ],\n",
    "            \"must_not\": {\n",
    "                \"term\": {\"af_result\": \"reject\"}\n",
    "            }\n",
    "        }\n",
    "    }\n",
    "}\n",
    "\n",
    "headers = [\"create_time\", \"trx\", \"log_type\", \"result\", \"err\", \"has_af\", \"af_result\", \"af_err\", \"ref_res\", \"name\", \"phone\", \"uin\", \n",
    "           \"bussiness_code\", \"merchant_code\", \"production_code\"]\n",
    "\n",
    "name = \"online_report_credit_%s.csv\" % DATE\n",
    "with open(name, \"w\", newline=\"\", encoding='utf-8-sig') as f:\n",
    "    w = csv.DictWriter(f, fieldnames=headers)\n",
    "    w.writeheader()\n",
    "\n",
    "    es = elasticsearch.Elasticsearch(hosts=ES_ADDR)\n",
    "    results = elasticsearch.helpers.scan(es, index=\"obs-%s\" % DATE, query=q)\n",
    "    for item in results:\n",
    "        tmp_dict = {}\n",
    "        for key in headers:\n",
    "            try:\n",
    "                value = item[\"_source\"].get(key, \"\")\n",
    "                tmp_dict[key] = value\n",
    "            except Exception as e:\n",
    "                if key in [\"af_result\", \"af_err\"]:\n",
    "                    tmp_dict[key] = \"\"\n",
    "                elif key == \"ref_res\":\n",
    "                    tmp_dict[\"ref_res\"] = item[\"_source\"].get(\"extra\", {}).get(\"ref_res\", \"\")\n",
    "                else:\n",
    "                    print(\"key:\", key, item[\"_source\"])\n",
    "                    continue\n",
    "        tmp_dict[\"create_time\"] = datetime.datetime.fromtimestamp(tmp_dict[\"create_time\"]/1000).strftime(\"%Y-%m-%d %H:%M:%S\")\n",
    "        w.writerow(tmp_dict)\n",
    "print(\"success...\")"
   ]
  },
  {
   "cell_type": "code",
   "execution_count": null,
   "metadata": {},
   "outputs": [],
   "source": []
  }
 ],
 "metadata": {
  "kernelspec": {
   "display_name": "Python 3",
   "language": "python",
   "name": "python3"
  },
  "language_info": {
   "codemirror_mode": {
    "name": "ipython",
    "version": 3
   },
   "file_extension": ".py",
   "mimetype": "text/x-python",
   "name": "python",
   "nbconvert_exporter": "python",
   "pygments_lexer": "ipython3",
   "version": "3.7.3"
  }
 },
 "nbformat": 4,
 "nbformat_minor": 2
}
